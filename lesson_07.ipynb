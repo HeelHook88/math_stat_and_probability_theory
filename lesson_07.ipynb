{
 "cells": [
  {
   "cell_type": "code",
   "execution_count": 1,
   "metadata": {},
   "outputs": [],
   "source": [
    "import numpy as np\n",
    "from itertools import *\n",
    "from pprint import pprint\n",
    "from scipy import stats"
   ]
  },
  {
   "cell_type": "markdown",
   "metadata": {},
   "source": [
    "Задача 1\n",
    "Дана матрица объект-признак\n",
    "\n",
    "X = [[ 1.22401313, 2.30868478, 3.03636353, 2.69287214], [-0.18757272, 1.30337355, 5.12093014, 3.46363202], [-0.81094525, 1.82463398, 5.79686488, 1.86159445], [ 0.75129018, 2.67392052, 3.65529809, 1.66746094], [ 0.00972362, 1.97367255, 2.50594319, 1.69755173], [-0.62972637, 0.77750764, 2.84124027, 4.54410559], [ 2.29536229, 1.81206697, 1.95026215, 1.51874636], [ 0.0920418 , 2.26971361, 7.47708735, 2.61081203], [ 2.39252799, 3.17563985, 3.61420599, 5.10773362], [ 0.54983815, 2.87988651, 1.65752765, 1.59635987]]\n",
    "\n",
    "и значения целевой переменной\n",
    "\n",
    "y = [ 9.26193358, 9.700363 , 8.67214805, 8.74796974, 6.18689108, 7.53312713, 7.57643777, 12.44965478, 14.29010746, 6.68361218]\n",
    "\n",
    "Подберите два признака (из четырёх) так, чтобы уровень линейной зависимости целевой переменной от значений этих признаков был максимальным. Другими словами, модель линейной регрессии на этих признаках должна давать наилучший результат. Является ли значимым получившееся уравнение регрессии?"
   ]
  },
  {
   "cell_type": "code",
   "execution_count": 2,
   "metadata": {},
   "outputs": [],
   "source": [
    "def sum_of_squares(samples: np.ndarray) -> float:\n",
    "    return ((samples - samples.mean()) ** 2).sum()"
   ]
  },
  {
   "cell_type": "code",
   "execution_count": 3,
   "metadata": {},
   "outputs": [],
   "source": [
    "X = [[ 1.22401313, 2.30868478, 3.03636353, 2.69287214],\n",
    "[-0.18757272, 1.30337355, 5.12093014, 3.46363202],\n",
    "[-0.81094525, 1.82463398, 5.79686488, 1.86159445],\n",
    "[ 0.75129018, 2.67392052, 3.65529809, 1.66746094],\n",
    "[ 0.00972362, 1.97367255, 2.50594319, 1.69755173],\n",
    "[-0.62972637, 0.77750764, 2.84124027, 4.54410559],\n",
    "[ 2.29536229, 1.81206697, 1.95026215, 1.51874636],\n",
    "[ 0.0920418 , 2.26971361, 7.47708735, 2.61081203],\n",
    "[ 2.39252799, 3.17563985, 3.61420599, 5.10773362],\n",
    "[ 0.54983815, 2.87988651, 1.65752765, 1.59635987]]"
   ]
  },
  {
   "cell_type": "code",
   "execution_count": 4,
   "metadata": {},
   "outputs": [],
   "source": [
    "y = [ 9.26193358, 9.700363 , 8.67214805, 8.74796974, 6.18689108,\n",
    "7.53312713, 7.57643777, 12.44965478, 14.29010746, 6.68361218]"
   ]
  },
  {
   "cell_type": "code",
   "execution_count": 5,
   "metadata": {},
   "outputs": [],
   "source": [
    "factor = [i for i in range(np.array(X).shape[1])]"
   ]
  },
  {
   "cell_type": "code",
   "execution_count": 6,
   "metadata": {},
   "outputs": [
    {
     "data": {
      "text/plain": [
       "array([[2.30868478],\n",
       "       [1.30337355],\n",
       "       [1.82463398],\n",
       "       [2.67392052],\n",
       "       [1.97367255],\n",
       "       [0.77750764],\n",
       "       [1.81206697],\n",
       "       [2.26971361],\n",
       "       [3.17563985],\n",
       "       [2.87988651]])"
      ]
     },
     "execution_count": 6,
     "metadata": {},
     "output_type": "execute_result"
    }
   ],
   "source": [
    "fact_x = np.array(X)\n",
    "fact_x[:, 1, None]"
   ]
  },
  {
   "cell_type": "code",
   "execution_count": 7,
   "metadata": {},
   "outputs": [],
   "source": [
    "ones = np.ones((10,1))"
   ]
  },
  {
   "cell_type": "code",
   "execution_count": 8,
   "metadata": {},
   "outputs": [
    {
     "name": "stdout",
     "output_type": "stream",
     "text": [
      "[{'R': 0.18113594742585215, 'c1': 0, 'c2': 1},\n",
      " {'R': 0.7634246238793151, 'c1': 0, 'c2': 2},\n",
      " {'R': 0.4532966783144077, 'c1': 0, 'c2': 3},\n",
      " {'R': 0.5479482734039012, 'c1': 1, 'c2': 2},\n",
      " {'R': 0.6062055761129934, 'c1': 1, 'c2': 3},\n",
      " {'R': 0.622441987650532, 'c1': 2, 'c2': 3}]\n"
     ]
    }
   ],
   "source": [
    "\n",
    "rlist = []\n",
    "for i in combinations(factor, 2):\n",
    "    res = {}\n",
    "    x_pot = np.hstack((ones, fact_x[:, i[0], None], fact_x[:, i[1], None]))\n",
    "    XTX = x_pot.T.dot(x_pot)\n",
    "    XTX_inv = np.linalg.inv(XTX)\n",
    "\n",
    "    b = XTX_inv.dot(x_pot.T).dot(y)\n",
    "    z = x_pot.dot(b)\n",
    "    e = y - z\n",
    "\n",
    "    R = 1 - sum_of_squares(e) / sum_of_squares(np.array(y))\n",
    "    res = {'c1': i[0], 'c2': i[1], 'R': R}\n",
    "    rlist.append(res)\n",
    "\n",
    "\n",
    "pprint(rlist)"
   ]
  },
  {
   "cell_type": "code",
   "execution_count": 22,
   "metadata": {},
   "outputs": [
    {
     "data": {
      "text/plain": [
       "(2, 7)"
      ]
     },
     "execution_count": 22,
     "metadata": {},
     "output_type": "execute_result"
    }
   ],
   "source": [
    "R = 0.7634246238793152\n",
    "R1 = 0.18113594742585215\n",
    "\n",
    "n = 10\n",
    "m = 2\n",
    "\n",
    "k1 = m\n",
    "k2 = n - m - 1\n",
    "\n",
    "k1, k2"
   ]
  },
  {
   "cell_type": "code",
   "execution_count": 20,
   "metadata": {},
   "outputs": [
    {
     "data": {
      "text/plain": [
       "4.73741412777588"
      ]
     },
     "execution_count": 20,
     "metadata": {},
     "output_type": "execute_result"
    }
   ],
   "source": [
    "alpha = 0.05\n",
    "\n",
    "t = stats.f.ppf(1 - alpha, k1, k2)\n",
    "t"
   ]
  },
  {
   "cell_type": "code",
   "execution_count": 23,
   "metadata": {},
   "outputs": [
    {
     "data": {
      "text/plain": [
       "3.2630400310992473"
      ]
     },
     "execution_count": 23,
     "metadata": {},
     "output_type": "execute_result"
    }
   ],
   "source": [
    "F = (R / k1) / ((1 - R1) / k2)\n",
    "F\n",
    "# незначим"
   ]
  },
  {
   "cell_type": "markdown",
   "metadata": {},
   "source": [
    "Задача 2\n",
    "\n",
    "Для проведения A/B-тестирования сайта интернет-магазина были получены следующие данные: страница A была посещена 2509 раз, из них 77 закончились совершением покупки, страница B была посещена 1465 раз, 60 из них закончились совершением покупки. Является ли значимым отличие конверсии на страницах A и B?"
   ]
  },
  {
   "cell_type": "code",
   "execution_count": 34,
   "metadata": {},
   "outputs": [],
   "source": [
    "a_visitor = 2509\n",
    "a_buy = 77\n",
    "\n",
    "b_visitor = 1465\n",
    "b_buy = 60\n",
    "\n",
    "a_mean = a_visitor / a_buy\n",
    "b_mean = b_visitor / b_buy\n"
   ]
  },
  {
   "cell_type": "code",
   "execution_count": 35,
   "metadata": {},
   "outputs": [],
   "source": [
    "res_a = np.concatenate((np.ones(a_buy), np.zeros(a_visitor-a_buy)), axis=0)\n",
    "res_b = np.concatenate((np.ones(b_buy), np.zeros(b_visitor-b_buy)), axis=0)\n",
    "res_a_and_b = np.concatenate((res_a, res_b), axis=0)"
   ]
  },
  {
   "cell_type": "code",
   "execution_count": 36,
   "metadata": {},
   "outputs": [],
   "source": [
    "res_a_mean = res_a.mean()\n",
    "res_b_mean = res_b.mean()\n",
    "res_a_and_b_mean = res_a_and_b.mean()"
   ]
  },
  {
   "cell_type": "code",
   "execution_count": 39,
   "metadata": {},
   "outputs": [
    {
     "data": {
      "text/plain": [
       "(0.09748158004016791, 132.17956925035745)"
      ]
     },
     "execution_count": 39,
     "metadata": {},
     "output_type": "execute_result"
    }
   ],
   "source": [
    "SS_b = a_visitor * (res_a_mean - res_a_and_b_mean) ** 2 + b_visitor * (res_b_mean - res_a_and_b_mean) ** 2\n",
    "\n",
    "SS_w = ((res_a - res_a_mean) ** 2).sum() + ((res_b - res_b_mean) ** 2).sum()\n",
    "\n",
    "SS_b, SS_w"
   ]
  },
  {
   "cell_type": "code",
   "execution_count": 40,
   "metadata": {},
   "outputs": [
    {
     "data": {
      "text/plain": [
       "(0.09748158004016791, 0.03327783717279895)"
      ]
     },
     "execution_count": 40,
     "metadata": {},
     "output_type": "execute_result"
    }
   ],
   "source": [
    "k = 2\n",
    "n = a_visitor + b_visitor\n",
    "\n",
    "k1 = k - 1\n",
    "k2 = n - k\n",
    "\n",
    "sigma2_b = SS_b / k1\n",
    "sigma2_w = SS_w / k2\n",
    "\n",
    "sigma2_b, sigma2_w"
   ]
  },
  {
   "cell_type": "code",
   "execution_count": 42,
   "metadata": {},
   "outputs": [
    {
     "data": {
      "text/plain": [
       "3.8438010503414866"
      ]
     },
     "execution_count": 42,
     "metadata": {},
     "output_type": "execute_result"
    }
   ],
   "source": [
    "F = sigma2_b / sigma2_w\n",
    "\n",
    "alpha = 0.05\n",
    "\n",
    "t = stats.f.ppf(1 - alpha, k1, k2)\n",
    "t\n",
    "\n",
    "#стастистически не значимо"
   ]
  },
  {
   "cell_type": "markdown",
   "metadata": {},
   "source": [
    "Задача 3\n",
    "Квартет Энскомба — популярный в области анализа данных пример наборов данных, у которых практически совпадают все статистические свойства (средние, дисперсии, коэффициенты корреляции, регрессионные линии), однако, существенно отличаются графики. Данный пример призван показать, насколько важна визуализация данных. Датасет представляет собой 4 пары выборок:\n",
    "\n",
    "{\n",
    "    \"x1\": [10.0, 8.0, 13.0, 9.0, 11.0, 14.0, 6.0, 4.0, 12.0, 7.0, 5.0],\n",
    "    \"y1\": [8.04, 6.95, 7.58, 8.81, 8.33, 9.96, 7.24, 4.26, 10.84, 4.82, 5.68],\n",
    "    \"x2\": [10.0, 8.0, 13.0, 9.0, 11.0, 14.0, 6.0, 4.0, 12.0, 7.0, 5.0],\n",
    "    \"y2\": [9.14, 8.14, 8.74, 8.77, 9.26, 8.1, 6.13, 3.1, 9.13, 7.26, 4.74],\n",
    "    \"x3\": [10.0, 8.0, 13.0, 9.0, 11.0, 14.0, 6.0, 4.0, 12.0, 7.0, 5.0],\n",
    "    \"y3\": [7.46, 6.77, 12.74, 7.11, 7.81, 8.84, 6.08, 5.39, 8.15, 6.42, 5.73],\n",
    "    \"x4\": [8.0, 8.0, 8.0, 8.0, 8.0, 8.0, 8.0, 19.0, 8.0, 8.0, 8.0],\n",
    "    \"y4\": [6.58, 5.76, 7.71, 8.84, 8.47, 7.04, 5.25, 12.5, 5.56, 7.91, 6.89]\n",
    "}\n",
    "\n",
    "По каждой паре выборок посчитайте:\n",
    "\n",
    "выборочное среднее и дисперсию каждой выборки,\n",
    "коэффициент корреляции Пирсона и прямую линейной регрессии.\n",
    "Убедившись в том, что они не практически не отличаются, постройте scatter plot по каждой паре выборок."
   ]
  },
  {
   "cell_type": "code",
   "execution_count": 43,
   "metadata": {},
   "outputs": [],
   "source": [
    "data = {\n",
    "    \"x1\": [10.0, 8.0, 13.0, 9.0, 11.0, 14.0, 6.0, 4.0, 12.0, 7.0, 5.0],\n",
    "    \"y1\": [8.04, 6.95, 7.58, 8.81, 8.33, 9.96, 7.24, 4.26, 10.84, 4.82, 5.68],\n",
    "    \"x2\": [10.0, 8.0, 13.0, 9.0, 11.0, 14.0, 6.0, 4.0, 12.0, 7.0, 5.0],\n",
    "    \"y2\": [9.14, 8.14, 8.74, 8.77, 9.26, 8.1, 6.13, 3.1, 9.13, 7.26, 4.74],\n",
    "    \"x3\": [10.0, 8.0, 13.0, 9.0, 11.0, 14.0, 6.0, 4.0, 12.0, 7.0, 5.0],\n",
    "    \"y3\": [7.46, 6.77, 12.74, 7.11, 7.81, 8.84, 6.08, 5.39, 8.15, 6.42, 5.73],\n",
    "    \"x4\": [8.0, 8.0, 8.0, 8.0, 8.0, 8.0, 8.0, 19.0, 8.0, 8.0, 8.0],\n",
    "    \"y4\": [6.58, 5.76, 7.71, 8.84, 8.47, 7.04, 5.25, 12.5, 5.56, 7.91, 6.89]\n",
    "}"
   ]
  },
  {
   "cell_type": "code",
   "execution_count": 44,
   "metadata": {},
   "outputs": [],
   "source": [
    "x1 = np.array(data['x1'])\n",
    "y1 = np.array(data['y1'])\n",
    "x2 = np.array(data['x2'])\n",
    "y2 = np.array(data['y2'])\n",
    "x3 = np.array(data['x3'])\n",
    "y3 = np.array(data['y3'])\n",
    "x4 = np.array(data['x4'])\n",
    "y4 = np.array(data['y4'])"
   ]
  },
  {
   "cell_type": "code",
   "execution_count": 45,
   "metadata": {},
   "outputs": [],
   "source": [
    "def prog(x1, y1):\n",
    "  print(x1.mean())\n",
    "  print(y1.mean())\n",
    "  print(x1.var())\n",
    "  print(y1.var())\n",
    "  print(np.corrcoef(x1, y1))\n",
    "\n",
    "  b1 = np.cov(x1, y1, ddof=1)[0, 1] / np.var(x1, ddof=1)\n",
    "  b0 = y1.mean() - b1 * x1.mean()\n",
    "  print(b1, b0)\n",
    "\n",
    "  oy = b0 + b1 * x1\n",
    "  print(oy)"
   ]
  },
  {
   "cell_type": "code",
   "execution_count": 46,
   "metadata": {},
   "outputs": [
    {
     "name": "stdout",
     "output_type": "stream",
     "text": [
      "x1 y1\n",
      "9.0\n",
      "7.500909090909093\n",
      "10.0\n",
      "3.7520628099173554\n",
      "[[1.         0.81642052]\n",
      " [0.81642052 1.        ]]\n",
      "0.5000909090909093 3.0000909090909094\n",
      "[ 8.001       7.00081818  9.50127273  7.50090909  8.50109091 10.00136364\n",
      "  6.00063636  5.00045455  9.00118182  6.50072727  5.50054545]\n",
      "x2 y2\n",
      "9.0\n",
      "7.50090909090909\n",
      "10.0\n",
      "3.752390082644628\n",
      "[[1.         0.81623651]\n",
      " [0.81623651 1.        ]]\n",
      "0.5000000000000001 3.000909090909089\n",
      "[ 8.00090909  7.00090909  9.50090909  7.50090909  8.50090909 10.00090909\n",
      "  6.00090909  5.00090909  9.00090909  6.50090909  5.50090909]\n",
      "x3 y3\n",
      "9.0\n",
      "7.5\n",
      "10.0\n",
      "3.747836363636364\n",
      "[[1.         0.81628674]\n",
      " [0.81628674 1.        ]]\n",
      "0.49972727272727285 3.002454545454544\n",
      "[7.99972727 7.00027273 9.49890909 7.5        8.49945455 9.99863636\n",
      " 6.00081818 5.00136364 8.99918182 6.50054545 5.50109091]\n",
      "x4 y4\n",
      "9.0\n",
      "7.500909090909091\n",
      "10.0\n",
      "3.7484082644628103\n",
      "[[1.         0.81652144]\n",
      " [0.81652144 1.        ]]\n",
      "0.49990909090909086 3.0017272727272735\n",
      "[ 7.001  7.001  7.001  7.001  7.001  7.001  7.001 12.5    7.001  7.001\n",
      "  7.001]\n"
     ]
    }
   ],
   "source": [
    "print('x1 y1')\n",
    "prog(x1, y1)\n",
    "print('x2 y2')\n",
    "prog(x2, y2)\n",
    "print('x3 y3')\n",
    "prog(x3, y3)\n",
    "print('x4 y4')\n",
    "prog(x4, y4)"
   ]
  },
  {
   "cell_type": "code",
   "execution_count": 47,
   "metadata": {},
   "outputs": [
    {
     "data": {
      "text/plain": [
       "<matplotlib.collections.PathCollection at 0x19effce9248>"
      ]
     },
     "execution_count": 47,
     "metadata": {},
     "output_type": "execute_result"
    },
    {
     "data": {
      "image/png": "[encoded data removed]",
      "text/plain": [
       "<Figure size 432x288 with 1 Axes>"
      ]
     },
     "metadata": {
      "needs_background": "light"
     },
     "output_type": "display_data"
    }
   ],
   "source": [
    "from matplotlib import pyplot as plt\n",
    "\n",
    "plt.scatter(x1, y1, c='r')\n",
    "plt.scatter(x2, y2, c='g')\n",
    "plt.scatter(x3, y3, c='y')\n",
    "plt.scatter(x4, y4, c='b')"
   ]
  }
 ],
 "metadata": {
  "kernelspec": {
   "display_name": "Python 3",
   "language": "python",
   "name": "python3"
  },
  "language_info": {
   "codemirror_mode": {
    "name": "ipython",
    "version": 3
   },
   "file_extension": ".py",
   "mimetype": "text/x-python",
   "name": "python",
   "nbconvert_exporter": "python",
   "pygments_lexer": "ipython3",
   "version": "3.7.7"
  }
 },
 "nbformat": 4,
 "nbformat_minor": 4
}
