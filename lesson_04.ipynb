{
 "cells": [
  {
   "cell_type": "code",
   "execution_count": 4,
   "metadata": {},
   "outputs": [],
   "source": [
    "import numpy as np\n",
    "from scipy import stats"
   ]
  },
  {
   "cell_type": "markdown",
   "metadata": {},
   "source": [
    "Задача 1\n",
    "\n",
    "О непрерывной равномерно распределённой случайной величине B известно, что её дисперсия равна 0.2. Можно ли найти правую границу величины B и её среднее значение зная, что левая граница равна 0.5? Если да, найдите их."
   ]
  },
  {
   "cell_type": "code",
   "execution_count": 5,
   "metadata": {},
   "outputs": [
    {
     "name": "stdout",
     "output_type": "stream",
     "text": [
      "правая величина границы B 2.049193338482967\n",
      "Среднее значение величины B 1.2745966692414834\n"
     ]
    }
   ],
   "source": [
    "d_x = 0.2\n",
    "a = 0.5\n",
    "\n",
    "b = a + (12 * d_x) ** 0.5\n",
    "mean = (b + a) / 2\n",
    "\n",
    "print(F\"правая величина границы B\" ,b)\n",
    "print(F\"Среднее значение величины B\" ,mean)"
   ]
  },
  {
   "cell_type": "markdown",
   "metadata": {},
   "source": [
    "Задача 2\n",
    "\n",
    "Коробки с шоколадом упаковываются автоматически. Их средняя масса равна 1.06 кг. Известно, что 5% коробок имеют массу, меньшую 1 кг. Найдите: а) среднее квадратическое отклонение массы коробки, б) процент коробок, имеющих массу больше 1.1 кг.\n",
    "\n",
    "Подсказка. Найдите такое значение scale, для которого значение cdf(x=1, loc=1.06, scale=scale) близко к 0.05. Точности 0.0001 будет достаточно."
   ]
  },
  {
   "cell_type": "code",
   "execution_count": 6,
   "metadata": {},
   "outputs": [
    {
     "name": "stdout",
     "output_type": "stream",
     "text": [
      "0.050002744285571166\n",
      "Процент коробок, имеющих массу больше 1.1 =  0.13641878306411004\n"
     ]
    }
   ],
   "source": [
    "loc = 1.06\n",
    "scale = 0.036478\n",
    "print(stats.norm.cdf(1, loc=loc, scale=scale))\n",
    "print('Процент коробок, имеющих массу больше 1.1 = ', \n",
    "      1 -stats.norm.cdf(1.1, loc=loc, scale=scale))      "
   ]
  },
  {
   "cell_type": "code",
   "execution_count": null,
   "metadata": {},
   "outputs": [],
   "source": []
  },
  {
   "cell_type": "code",
   "execution_count": null,
   "metadata": {},
   "outputs": [],
   "source": []
  },
  {
   "cell_type": "markdown",
   "metadata": {},
   "source": [
    "\n",
    "Задача 3\n",
    "Коробка содержит 30 конфет. Известно, что масса каждой конфеты распределена равномерно в промежутке от 12 до 14 граммов. Используя центральную предельную теорему, найти вероятность, что масса всей коробки будет: а) меньше 390 граммов, б) больше 395 граммов, в) от 380 до 400 граммов.\n",
    "\n",
    "Массой самой коробки можно пренебречь"
   ]
  },
  {
   "cell_type": "code",
   "execution_count": 7,
   "metadata": {},
   "outputs": [],
   "source": [
    "a = 12\n",
    "b = 14\n",
    "n = 30\n",
    "\n",
    "\n",
    "m_x = (a + b) / 2\n",
    "d_x = ((b - a) ** 2) / 12\n",
    "scale = (n * d_x) ** 0.5\n",
    "loc = m_x * n\n"
   ]
  },
  {
   "cell_type": "code",
   "execution_count": 8,
   "metadata": {},
   "outputs": [
    {
     "name": "stdout",
     "output_type": "stream",
     "text": [
      "Вероятность что масса каробки меньше 390 грамм =  0.5\n",
      "Вероятность что масса каробки больше  395 грамм =  0.056923149003329065\n",
      "Вероятность что масса каробки от 380 до 400 =  0.9984345977419975\n"
     ]
    }
   ],
   "source": [
    "print(f'Вероятность что масса каробки меньше 390 грамм = ' , norm.cdf(x=390, loc=loc, scale=scale) )\n",
    "print(f'Вероятность что масса каробки больше  395 грамм = ' , 1 - norm.cdf(x=395, loc=loc, scale=scale) )\n",
    "print(f'Вероятность что масса каробки от 380 до 400 = ' ,\n",
    "      norm.cdf(x=400, loc=loc, scale=scale) - norm.cdf(x=380, loc=loc, scale=scale)  ) "
   ]
  }
 ],
 "metadata": {
  "kernelspec": {
   "display_name": "Python 3",
   "language": "python",
   "name": "python3"
  },
  "language_info": {
   "codemirror_mode": {
    "name": "ipython",
    "version": 3
   },
   "file_extension": ".py",
   "mimetype": "text/x-python",
   "name": "python",
   "nbconvert_exporter": "python",
   "pygments_lexer": "ipython3",
   "version": "3.7.7"
  }
 },
 "nbformat": 4,
 "nbformat_minor": 4
}
