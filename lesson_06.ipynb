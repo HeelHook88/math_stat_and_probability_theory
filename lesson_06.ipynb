{
 "cells": [
  {
   "cell_type": "markdown",
   "metadata": {},
   "source": [
    "Задача 1\n",
    "\n",
    "Даны значения величины заработной платы заемщиков банка (salary) и значения их поведенческого кредитного скоринга (scoring):\n",
    "\n",
    "salary = [35, 45, 190, 200, 40, 70, 54, 150, 120, 110]\n",
    "scoring = [401, 574, 874, 919, 459, 739, 653, 902, 746, 832]\n",
    "\n",
    "Используя только встроенные питоновские функции и структуры данных (т.е. без библиотек numpy, pandas и др.) найдите:\n",
    "1. ковариацию (смещённую и несмещённую) этих двух величин,\n",
    "2. коэффициент корреляции Пирсона.\n",
    "\n",
    "Можно затем посчитать те же значения с использованием библиотек, чтобы проверить себя."
   ]
  },
  {
   "cell_type": "code",
   "execution_count": 1,
   "metadata": {},
   "outputs": [],
   "source": [
    "import numpy as np\n",
    "from scipy import stats"
   ]
  },
  {
   "cell_type": "code",
   "execution_count": 2,
   "metadata": {},
   "outputs": [],
   "source": [
    "salary = [35, 45, 190, 200, 40, 70, 54, 150, 120, 110]\n",
    "scoring = [401, 574, 874, 919, 459, 739, 653, 902, 746, 832]\n",
    "\n",
    "n = len(salary)\n",
    "\n"
   ]
  },
  {
   "cell_type": "code",
   "execution_count": 3,
   "metadata": {},
   "outputs": [],
   "source": [
    "salary_mean = sum(salary) / n\n",
    "scoring_mean = sum(scoring) / n\n"
   ]
  },
  {
   "cell_type": "code",
   "execution_count": 4,
   "metadata": {},
   "outputs": [],
   "source": [
    "result_MX = []\n",
    "result_MY = []\n",
    "for i in range (len(salary)):\n",
    "    result_MX.append(salary[i] - salary_mean)\n",
    "    result_MY.append(scoring[i] - scoring_mean)"
   ]
  },
  {
   "cell_type": "code",
   "execution_count": 5,
   "metadata": {},
   "outputs": [],
   "source": [
    "result_MX_std = []\n",
    "result_MY_std = []\n",
    "for i in range (len(salary)):\n",
    "    result_MX_std.append((salary[i] - salary_mean) ** 2)\n",
    "    result_MY_std.append((scoring[i] - scoring_mean) ** 2) \n",
    "\n",
    "result_MX_std = sum(result_MX_std) / n\n",
    "result_MY_std = sum(result_MY_std) / n\n"
   ]
  },
  {
   "cell_type": "code",
   "execution_count": 6,
   "metadata": {},
   "outputs": [],
   "source": [
    "result_MY_multiply_MX = []\n",
    "for i in range (len(salary)):\n",
    "    result_MY_multiply_MX.append(result_MX[i] * result_MY[i])\n",
    "    "
   ]
  },
  {
   "cell_type": "code",
   "execution_count": 7,
   "metadata": {},
   "outputs": [],
   "source": [
    "cov = sum(result_MY_multiply_MX) / n\n",
    "r = cov / (result_MX_std * result_MY_std) ** 0.5"
   ]
  },
  {
   "cell_type": "code",
   "execution_count": 8,
   "metadata": {},
   "outputs": [
    {
     "name": "stdout",
     "output_type": "stream",
     "text": [
      "Смещённая ковариация 10175.377777777778\n",
      "Не смещённая ковариация 9157.84\n",
      "Коэффициент кореляции Пирсона  0.8874900920739162\n"
     ]
    }
   ],
   "source": [
    "print(F\"Смещённая ковариация\", sum(result_MY_multiply_MX) / (n - 1))\n",
    "print(F\"Не смещённая ковариация\", sum(result_MY_multiply_MX) / n)\n",
    "print(F\"Коэффициент кореляции Пирсона \" , r)"
   ]
  },
  {
   "cell_type": "markdown",
   "metadata": {},
   "source": [
    "Задача 2\n",
    "\n",
    "Проведите тест на значимость коэффициента корреляции Пирсона, найденного в предыдущей задаче. Что для этого нужно знать:\n",
    "* Нулевая гипотеза: реальный коэффициент корреляции равен 0. Альтернативная гипотеза двухсторонняя.\n",
    "* Статистика: t = r * sqrt(n - 2) / sqrt(1 - r ** 2), где r - коэффициент корреляции Пирсона, посчитанный по выборке.\n",
    "* В предположении верности нулевой гипотезы эта статистика имеет распределение Стьюдента с параметром df = n - 2."
   ]
  },
  {
   "cell_type": "code",
   "execution_count": 9,
   "metadata": {},
   "outputs": [
    {
     "name": "stdout",
     "output_type": "stream",
     "text": [
      "Уровень значимости:  0.0006107546587257318\n"
     ]
    }
   ],
   "source": [
    "t = r * (n - 2) ** 0.5 / (1 - r ** 2) ** 0.5\n",
    "\n",
    "p_left = stats.t.cdf(t, df=n - 2)\n",
    "p_right = 1 - p_left\n",
    "\n",
    "pvalue = 2 * min(p_left, p_right)\n",
    "\n",
    "print('Уровень значимости: ', pvalue)"
   ]
  },
  {
   "cell_type": "markdown",
   "metadata": {},
   "source": [
    "Задача 3\n",
    "\n",
    "Измерены значения IQ выборки студентов, обучающихся в местных технических вузах:\n",
    "\n",
    "131, 125, 115, 122, 131, 115, 107, 99, 125, 111\n",
    "\n",
    "Известно, что в генеральной совокупности IQ распределен нормально. Найдите доверительный интервал для математического ожидания с надежностью 0.95."
   ]
  },
  {
   "cell_type": "code",
   "execution_count": 10,
   "metadata": {},
   "outputs": [
    {
     "name": "stdout",
     "output_type": "stream",
     "text": [
      "Доверительный интервал 110.1480139537451 126.05198604625488\n"
     ]
    }
   ],
   "source": [
    "iq_list = np.array([131, 125, 115, 122, 131, 115, 107, 99, 125, 111])\n",
    "\n",
    "n = len(iq_list)\n",
    "\n",
    "mean = iq_list.mean()\n",
    "std = iq_list.std(ddof = 1)\n",
    "\n",
    "p = 0.95\n",
    "alpha = 1 - p\n",
    "\n",
    "\n",
    "t1 = stats.t.ppf(alpha / 2, df= n - 1)\n",
    "t2 = stats.t.ppf(1 - alpha / 2, df= n - 1)\n",
    "\n",
    "\n",
    "print(F\"Доверительный интервал\", mean + t1 * std / np.sqrt(n -1), mean + t2 * std / np.sqrt(n-1))\n",
    "\n",
    "\n"
   ]
  },
  {
   "cell_type": "markdown",
   "metadata": {},
   "source": [
    "Задача 4\n",
    "\n",
    "Выберите тему для проектной работы по курсу Теории вероятностей и математической статистики и напишите ее в комментарии к Практическому заданию."
   ]
  },
  {
   "cell_type": "markdown",
   "metadata": {},
   "source": [
    "https://www.kaggle.com/lava18/google-play-store-apps\n",
    "\n",
    "Если Вас не затруднит подскажите идею для анализа в этом датасете "
   ]
  }
 ],
 "metadata": {
  "kernelspec": {
   "display_name": "Python 3",
   "language": "python",
   "name": "python3"
  },
  "language_info": {
   "codemirror_mode": {
    "name": "ipython",
    "version": 3
   },
   "file_extension": ".py",
   "mimetype": "text/x-python",
   "name": "python",
   "nbconvert_exporter": "python",
   "pygments_lexer": "ipython3",
   "version": "3.7.7"
  }
 },
 "nbformat": 4,
 "nbformat_minor": 4
}
